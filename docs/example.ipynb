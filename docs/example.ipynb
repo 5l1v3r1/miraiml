{
 "cells": [
  {
   "cell_type": "markdown",
   "metadata": {},
   "source": [
    "# Example notebook\n",
    "\n",
    "This notebook will cover a regression case using scikit-learn's *California Housing* dataset."
   ]
  },
  {
   "cell_type": "code",
   "execution_count": 1,
   "metadata": {},
   "outputs": [
    {
     "name": "stderr",
     "output_type": "stream",
     "text": [
      "Downloading Cal. housing from https://ndownloader.figshare.com/files/5976036 to miraiml_local\n"
     ]
    }
   ],
   "source": [
    "from sklearn.datasets import fetch_california_housing\n",
    "import pandas as pd\n",
    "\n",
    "X, y = fetch_california_housing(data_home='miraiml_local', return_X_y=True)\n",
    "data = pd.DataFrame(X)\n",
    "data['target'] = y"
   ]
  },
  {
   "cell_type": "markdown",
   "metadata": {},
   "source": [
    "Let's split the data into training and testing data. In a real case scenario, we'd only have labels for training data."
   ]
  },
  {
   "cell_type": "code",
   "execution_count": 2,
   "metadata": {},
   "outputs": [],
   "source": [
    "from sklearn.model_selection import train_test_split\n",
    "\n",
    "train_data, test_data = train_test_split(data, test_size=0.2)"
   ]
  },
  {
   "cell_type": "markdown",
   "metadata": {},
   "source": [
    "## Building the search spaces\n",
    "\n",
    "Let's compare (and ensemble) a `KNeighborsRegressor` and a pipeline composed by `StandardScaler` and a `LinearRegression`."
   ]
  },
  {
   "cell_type": "code",
   "execution_count": 3,
   "metadata": {},
   "outputs": [],
   "source": [
    "from sklearn.neighbors import KNeighborsRegressor\n",
    "from sklearn.linear_model import LinearRegression\n",
    "from sklearn.preprocessing import StandardScaler\n",
    "\n",
    "from miraiml import SearchSpace\n",
    "from miraiml.pipeline import compose\n",
    "\n",
    "Pipeline = compose(\n",
    "    [('scaler', StandardScaler), ('lin_reg', LinearRegression)]\n",
    ")\n",
    "\n",
    "search_spaces = [\n",
    "    SearchSpace(\n",
    "        id='k-NN Regressor',\n",
    "        model_class=KNeighborsRegressor,\n",
    "        parameters_values=dict(\n",
    "            n_neighbors=range(2, 9),\n",
    "            weights=['uniform', 'distance'],\n",
    "            p=range(2, 5)\n",
    "        )\n",
    "    ),\n",
    "    SearchSpace(\n",
    "        id='Pipeline',\n",
    "        model_class=Pipeline,\n",
    "        parameters_values=dict(\n",
    "            scaler__with_mean=[True, False],\n",
    "            scaler__with_std=[True, False],\n",
    "            lin_reg__fit_intercept=[True, False]\n",
    "        )\n",
    "    )\n",
    "]"
   ]
  },
  {
   "cell_type": "markdown",
   "metadata": {},
   "source": [
    "## Configuring the Engine\n",
    "\n",
    "For this demonstration, let's use `r2_score` to evaluate our modeling."
   ]
  },
  {
   "cell_type": "code",
   "execution_count": 4,
   "metadata": {},
   "outputs": [],
   "source": [
    "from sklearn.metrics import r2_score\n",
    "\n",
    "from miraiml import Config\n",
    "\n",
    "config = Config(\n",
    "    local_dir='miraiml_local',\n",
    "    problem_type='regression',\n",
    "    score_function=r2_score,\n",
    "    search_spaces=search_spaces,\n",
    "    ensemble_id='Ensemble'\n",
    ")"
   ]
  },
  {
   "cell_type": "markdown",
   "metadata": {},
   "source": [
    "## Triggering the Engine\n",
    "\n",
    "Let's also print the scores everytime the Engine finds a better solution."
   ]
  },
  {
   "cell_type": "code",
   "execution_count": 5,
   "metadata": {},
   "outputs": [],
   "source": [
    "from miraiml import Engine\n",
    "\n",
    "def on_improvement(status):\n",
    "    scores = status.scores\n",
    "    for key in sorted(scores.keys()):\n",
    "        print('{}: {}'.format(key, round(scores[key], 3)), end='; ')\n",
    "    print()\n",
    "\n",
    "engine = Engine(config=config, on_improvement=on_improvement)"
   ]
  },
  {
   "cell_type": "markdown",
   "metadata": {},
   "source": [
    "Now we're ready to load the data."
   ]
  },
  {
   "cell_type": "code",
   "execution_count": 6,
   "metadata": {},
   "outputs": [],
   "source": [
    "engine.load_train_data(train_data, 'target')\n",
    "engine.load_test_data(test_data)"
   ]
  },
  {
   "cell_type": "markdown",
   "metadata": {},
   "source": [
    "Let's leave it running for 2 minutes, shuffle the train data, let it run for 2 more minutes and then interrupt it."
   ]
  },
  {
   "cell_type": "code",
   "execution_count": 7,
   "metadata": {},
   "outputs": [
    {
     "name": "stdout",
     "output_type": "stream",
     "text": [
      "Ensemble: 0.118; Pipeline: -3.214; k-NN Regressor: 0.118; \n",
      "Ensemble: 0.142; Pipeline: -3.214; k-NN Regressor: 0.142; \n",
      "Ensemble: 0.143; Pipeline: 0.467; k-NN Regressor: 0.142; \n",
      "Ensemble: 0.474; Pipeline: 0.467; k-NN Regressor: 0.142; \n",
      "Ensemble: 0.473; Pipeline: 0.467; k-NN Regressor: 0.172; \n",
      "Ensemble: 0.509; Pipeline: 0.503; k-NN Regressor: 0.172; \n",
      "Ensemble: 0.509; Pipeline: 0.503; k-NN Regressor: 0.172; \n",
      "Ensemble: 0.525; Pipeline: 0.503; k-NN Regressor: 0.321; \n",
      "Ensemble: 0.539; Pipeline: 0.503; k-NN Regressor: 0.321; \n",
      "Ensemble: 0.552; Pipeline: 0.503; k-NN Regressor: 0.521; \n",
      "Ensemble: 0.566; Pipeline: 0.503; k-NN Regressor: 0.521; \n",
      "Ensemble: 0.565; Pipeline: 0.503; k-NN Regressor: 0.538; \n",
      "Ensemble: 0.566; Pipeline: 0.503; k-NN Regressor: 0.538; \n",
      "Ensemble: 0.566; Pipeline: 0.503; k-NN Regressor: 0.538; \n",
      "Ensemble: 0.566; Pipeline: 0.512; k-NN Regressor: 0.538; \n",
      "Ensemble: 0.566; Pipeline: 0.512; k-NN Regressor: 0.538; \n",
      "Ensemble: 0.566; Pipeline: 0.512; k-NN Regressor: 0.538; \n",
      "Ensemble: 0.587; Pipeline: 0.512; k-NN Regressor: 0.544; \n",
      "Ensemble: 0.597; Pipeline: 0.536; k-NN Regressor: 0.544; \n",
      "Ensemble: 0.598; Pipeline: 0.536; k-NN Regressor: 0.544; \n",
      "Ensemble: 0.648; Pipeline: 0.536; k-NN Regressor: 0.659; \n",
      "Ensemble: 0.666; Pipeline: 0.536; k-NN Regressor: 0.659; \n",
      "Ensemble: 0.68; Pipeline: 0.536; k-NN Regressor: 0.665; \n",
      "Ensemble: 0.681; Pipeline: 0.536; k-NN Regressor: 0.665; \n",
      "Ensemble: 0.681; Pipeline: 0.536; k-NN Regressor: 0.665; \n",
      "Ensemble: 0.681; Pipeline: 0.536; k-NN Regressor: 0.665; \n",
      "Ensemble: 0.695; Pipeline: 0.584; k-NN Regressor: 0.665; \n",
      "Ensemble: 0.698; Pipeline: 0.584; k-NN Regressor: 0.665; \n",
      "Ensemble: 0.698; Pipeline: 0.597; k-NN Regressor: 0.665; \n",
      "Ensemble: 0.698; Pipeline: 0.597; k-NN Regressor: 0.665; \n",
      "Ensemble: 0.698; Pipeline: 0.597; k-NN Regressor: 0.665; \n",
      "Ensemble: 0.698; Pipeline: 0.597; k-NN Regressor: 0.665; \n",
      "Ensemble: 0.698; Pipeline: 0.597; k-NN Regressor: 0.665; \n",
      "Ensemble: 0.698; Pipeline: 0.597; k-NN Regressor: 0.665; \n",
      "Ensemble: 0.698; Pipeline: 0.597; k-NN Regressor: 0.665; \n",
      "Ensemble: 0.698; Pipeline: 0.597; k-NN Regressor: 0.687; \n",
      "Ensemble: 0.7; Pipeline: 0.597; k-NN Regressor: 0.687; \n",
      "Ensemble: 0.7; Pipeline: 0.597; k-NN Regressor: 0.687; \n",
      "Ensemble: 0.738; Pipeline: 0.597; k-NN Regressor: 0.72; \n",
      "Ensemble: 0.738; Pipeline: 0.597; k-NN Regressor: 0.72; \n",
      "Ensemble: 0.738; Pipeline: 0.597; k-NN Regressor: 0.72; \n",
      "Ensemble: 0.754; Pipeline: 0.597; k-NN Regressor: 0.753; \n",
      "Ensemble: 0.757; Pipeline: 0.597; k-NN Regressor: 0.753; \n",
      "Ensemble: 0.757; Pipeline: 0.597; k-NN Regressor: 0.753; \n",
      "Ensemble: 0.757; Pipeline: 0.597; k-NN Regressor: 0.753; \n",
      "Ensemble: 0.757; Pipeline: 0.597; k-NN Regressor: 0.753; \n",
      "\n",
      "Shuffling train data\n",
      "Ensemble: 0.757; Pipeline: 0.596; k-NN Regressor: 0.753; \n",
      "Ensemble: 0.757; Pipeline: 0.596; k-NN Regressor: 0.753; \n",
      "Ensemble: 0.757; Pipeline: 0.596; k-NN Regressor: 0.753; \n",
      "Ensemble: 0.758; Pipeline: 0.596; k-NN Regressor: 0.755; \n",
      "Ensemble: 0.758; Pipeline: 0.596; k-NN Regressor: 0.755; \n",
      "Ensemble: 0.758; Pipeline: 0.596; k-NN Regressor: 0.755; \n",
      "Ensemble: 0.758; Pipeline: 0.596; k-NN Regressor: 0.755; \n",
      "Ensemble: 0.758; Pipeline: 0.596; k-NN Regressor: 0.755; \n",
      "Ensemble: 0.758; Pipeline: 0.596; k-NN Regressor: 0.755; \n",
      "Ensemble: 0.758; Pipeline: 0.596; k-NN Regressor: 0.755; \n",
      "Ensemble: 0.758; Pipeline: 0.596; k-NN Regressor: 0.755; \n",
      "Ensemble: 0.758; Pipeline: 0.596; k-NN Regressor: 0.755; \n",
      "Ensemble: 0.758; Pipeline: 0.596; k-NN Regressor: 0.755; \n",
      "Ensemble: 0.758; Pipeline: 0.596; k-NN Regressor: 0.755; \n"
     ]
    }
   ],
   "source": [
    "from time import sleep\n",
    "\n",
    "engine.restart()\n",
    "\n",
    "sleep(120)\n",
    "\n",
    "print('\\nShuffling train data')\n",
    "engine.shuffle_train_data(restart=True)\n",
    "\n",
    "sleep(120)\n",
    "\n",
    "engine.interrupt()"
   ]
  },
  {
   "cell_type": "markdown",
   "metadata": {},
   "source": [
    "## Engine's status analysis"
   ]
  },
  {
   "cell_type": "code",
   "execution_count": 8,
   "metadata": {},
   "outputs": [],
   "source": [
    "status = engine.request_status()"
   ]
  },
  {
   "cell_type": "markdown",
   "metadata": {},
   "source": [
    "Let's see the status report."
   ]
  },
  {
   "cell_type": "code",
   "execution_count": 9,
   "metadata": {},
   "outputs": [
    {
     "name": "stdout",
     "output_type": "stream",
     "text": [
      "########################\n",
      "best id: Ensemble\n",
      "best score: 0.7583702712570008\n",
      "########################\n",
      "ensemble weights:\n",
      "    k-NN Regressor: 0.4325346249356786\n",
      "    Pipeline: 0.06615069839850787\n",
      "########################\n",
      "all scores:\n",
      "    Ensemble: 0.7583702712570008\n",
      "    k-NN Regressor: 0.7545806614607227\n",
      "    Pipeline: 0.5963819838101254\n",
      "########################\n",
      "id: Pipeline\n",
      "model class: MiraiPipeline\n",
      "n features: 8\n",
      "parameters:\n",
      "    lin_reg__fit_intercept: True\n",
      "    scaler__with_mean: False\n",
      "    scaler__with_std: False\n",
      "features: 0, 1, 2, 3, 4, 5, 6, 7\n",
      "########################\n",
      "id: k-NN Regressor\n",
      "model class: KNeighborsRegressor\n",
      "n features: 6\n",
      "parameters:\n",
      "    n_neighbors: 6\n",
      "    p: 2\n",
      "    weights: distance\n",
      "features: 0, 2, 3, 5, 6, 7\n",
      "\n"
     ]
    }
   ],
   "source": [
    "print(status.build_report(include_features=True))"
   ]
  },
  {
   "cell_type": "markdown",
   "metadata": {},
   "source": [
    "### k-NN Regressor's history\n",
    "\n",
    "How does the k-NN Regressor's scores change with `n_neighbors`, on average?"
   ]
  },
  {
   "cell_type": "code",
   "execution_count": 10,
   "metadata": {},
   "outputs": [
    {
     "data": {
      "image/png": "[encoded data removed]",
      "text/plain": [
       "<Figure size 432x288 with 1 Axes>"
      ]
     },
     "metadata": {
      "needs_background": "light"
     },
     "output_type": "display_data"
    }
   ],
   "source": [
    "import matplotlib.pyplot as plt\n",
    "%matplotlib inline\n",
    "\n",
    "knn_history = status.histories['k-NN Regressor']\n",
    "\n",
    "knn_history[['n_neighbors__(hyperparameter)', 'score']]\\\n",
    "    .groupby('n_neighbors__(hyperparameter)').mean()\\\n",
    "    .plot.bar()\n",
    "\n",
    "plt.show()"
   ]
  },
  {
   "cell_type": "markdown",
   "metadata": {},
   "source": [
    "We can also see how the presence of features (0 or 1) correlate with the score. These results can work as some sort of feature importance."
   ]
  },
  {
   "cell_type": "code",
   "execution_count": 11,
   "metadata": {},
   "outputs": [
    {
     "data": {
      "image/png": "[encoded data removed]",
      "text/plain": [
       "<Figure size 432x288 with 1 Axes>"
      ]
     },
     "metadata": {
      "needs_background": "light"
     },
     "output_type": "display_data"
    }
   ],
   "source": [
    "knn_history[[col for col in knn_history if col.endswith('(feature)')] + ['score']]\\\n",
    "    .corr()['score'][:-1]\\\n",
    "    .sort_values()\\\n",
    "    .plot.bar(label='Correlation')\n",
    "\n",
    "plt.legend()\n",
    "plt.show()"
   ]
  },
  {
   "cell_type": "markdown",
   "metadata": {},
   "source": [
    "### Theoretical performance in production\n",
    "\n",
    "Again, in practice we wouldn't have labels for `test_data`. But since we do have labels here, how would MiraiML perform on the test dataset?"
   ]
  },
  {
   "cell_type": "code",
   "execution_count": 12,
   "metadata": {},
   "outputs": [
    {
     "data": {
      "text/plain": [
       "0.7802410717298023"
      ]
     },
     "execution_count": 12,
     "metadata": {},
     "output_type": "execute_result"
    }
   ],
   "source": [
    "r2_score(test_data['target'], status.test_predictions['Ensemble'])"
   ]
  }
 ],
 "metadata": {
  "kernelspec": {
   "display_name": "Python 3",
   "language": "python",
   "name": "python3"
  },
  "language_info": {
   "codemirror_mode": {
    "name": "ipython",
    "version": 3
   },
   "file_extension": ".py",
   "mimetype": "text/x-python",
   "name": "python",
   "nbconvert_exporter": "python",
   "pygments_lexer": "ipython3",
   "version": "3.7.4"
  }
 },
 "nbformat": 4,
 "nbformat_minor": 2
}
